{
 "cells": [
  {
   "cell_type": "markdown",
   "metadata": {},
   "source": [
    "# Heart disease analysis "
   ]
  },
  {
   "cell_type": "code",
   "execution_count": 87,
   "metadata": {},
   "outputs": [
    {
     "name": "stdout",
     "output_type": "stream",
     "text": [
      "age         0\n",
      "sex         0\n",
      "cp          0\n",
      "trestbps    0\n",
      "chol        0\n",
      "fbs         0\n",
      "restecg     0\n",
      "thalach     0\n",
      "exang       0\n",
      "oldpeak     0\n",
      "slope       0\n",
      "ca          0\n",
      "thal        0\n",
      "target      0\n",
      "dtype: int64\n",
      "(303, 14)\n"
     ]
    },
    {
     "data": {
      "text/html": [
       "<div>\n",
       "<style scoped>\n",
       "    .dataframe tbody tr th:only-of-type {\n",
       "        vertical-align: middle;\n",
       "    }\n",
       "\n",
       "    .dataframe tbody tr th {\n",
       "        vertical-align: top;\n",
       "    }\n",
       "\n",
       "    .dataframe thead th {\n",
       "        text-align: right;\n",
       "    }\n",
       "</style>\n",
       "<table border=\"1\" class=\"dataframe\">\n",
       "  <thead>\n",
       "    <tr style=\"text-align: right;\">\n",
       "      <th></th>\n",
       "      <th>target</th>\n",
       "    </tr>\n",
       "  </thead>\n",
       "  <tbody>\n",
       "    <tr>\n",
       "      <th>1</th>\n",
       "      <td>0.544554</td>\n",
       "    </tr>\n",
       "    <tr>\n",
       "      <th>0</th>\n",
       "      <td>0.455446</td>\n",
       "    </tr>\n",
       "  </tbody>\n",
       "</table>\n",
       "</div>"
      ],
      "text/plain": [
       "     target\n",
       "1  0.544554\n",
       "0  0.455446"
      ]
     },
     "execution_count": 87,
     "metadata": {},
     "output_type": "execute_result"
    }
   ],
   "source": [
    "import pandas as pd\n",
    "\n",
    "Hdisease = pd.read_csv(\"heart.csv\")\n",
    "print(Hdisease.isnull().sum()) #No missing values. \n",
    "\n",
    "print(Hdisease.shape)\n",
    "\n",
    "Hdisease['target'].value_counts() #dataset is reasonably balanced\n",
    "pd.DataFrame(Hdisease.target.value_counts(normalize = True)) #confirms that class 0 has 45% and class 1 has 54% of data\n",
    "\n"
   ]
  },
  {
   "cell_type": "markdown",
   "metadata": {},
   "source": [
    "# Visualizing the categorical variables "
   ]
  },
  {
   "cell_type": "markdown",
   "metadata": {},
   "source": [
    "## Starting with sex and heart disease (target)"
   ]
  },
  {
   "cell_type": "code",
   "execution_count": 88,
   "metadata": {},
   "outputs": [
    {
     "data": {
      "text/plain": [
       "<matplotlib.axes._subplots.AxesSubplot at 0x2651a2009d0>"
      ]
     },
     "execution_count": 88,
     "metadata": {},
     "output_type": "execute_result"
    },
    {
     "data": {
      "image/png": "[encoded data removed]",
      "text/plain": [
       "<Figure size 432x288 with 1 Axes>"
      ]
     },
     "metadata": {
      "needs_background": "light"
     },
     "output_type": "display_data"
    }
   ],
   "source": [
    "import matplotlib.pyplot as plt\n",
    "\n",
    "sex = Hdisease.groupby(\"sex\").target.value_counts(normalize = True) \n",
    "sex = sex.unstack() #cleans up dataframe\n",
    "sex\n",
    "sex.plot(kind = 'bar') # A big proportion of women had heart disease compared to not having it.\n",
    "                       # For men, it was around 50/50 of having/not having heart disease.\n",
    "\n"
   ]
  },
  {
   "cell_type": "markdown",
   "metadata": {},
   "source": [
    "## Visualizing chest pain and heart disease "
   ]
  },
  {
   "cell_type": "code",
   "execution_count": 90,
   "metadata": {},
   "outputs": [
    {
     "data": {
      "text/plain": [
       "<matplotlib.axes._subplots.AxesSubplot at 0x2651b2d57c0>"
      ]
     },
     "execution_count": 90,
     "metadata": {},
     "output_type": "execute_result"
    },
    {
     "data": {
      "image/png": "[encoded data removed]",
      "text/plain": [
       "<Figure size 432x288 with 1 Axes>"
      ]
     },
     "metadata": {
      "needs_background": "light"
     },
     "output_type": "display_data"
    }
   ],
   "source": [
    "#4 values in chest pain, e.g 0 is mild and 3 is very severe.\n",
    "\n",
    "chest_pain = Hdisease.groupby(\"cp\").target.value_counts(normalize = True) \n",
    "chest_pain = chest_pain.unstack() \n",
    "chest_pain\n",
    "chest_pain.plot(kind = 'bar')  \n"
   ]
  },
  {
   "cell_type": "markdown",
   "metadata": {},
   "source": [
    "## Visualizing fasting blood sugar and heart disease "
   ]
  },
  {
   "cell_type": "code",
   "execution_count": 8,
   "metadata": {},
   "outputs": [
    {
     "data": {
      "text/plain": [
       "<matplotlib.axes._subplots.AxesSubplot at 0x26517695820>"
      ]
     },
     "execution_count": 8,
     "metadata": {},
     "output_type": "execute_result"
    },
    {
     "data": {
      "image/png": "[encoded data removed]",
      "text/plain": [
       "<Figure size 432x288 with 1 Axes>"
      ]
     },
     "metadata": {
      "needs_background": "light"
     },
     "output_type": "display_data"
    }
   ],
   "source": [
    "fast_blood = Hdisease.groupby('fbs').target.value_counts(normalize = True)\n",
    "fast_blood = fast_blood.unstack()\n",
    "fast_blood.plot(kind = 'bar')"
   ]
  },
  {
   "cell_type": "markdown",
   "metadata": {},
   "source": [
    "## Visualizing resting electrocardiographic results and heart disease"
   ]
  },
  {
   "cell_type": "code",
   "execution_count": 9,
   "metadata": {},
   "outputs": [
    {
     "data": {
      "text/plain": [
       "<matplotlib.axes._subplots.AxesSubplot at 0x265176f75e0>"
      ]
     },
     "execution_count": 9,
     "metadata": {},
     "output_type": "execute_result"
    },
    {
     "data": {
      "image/png": "[encoded data removed]",
      "text/plain": [
       "<Figure size 432x288 with 1 Axes>"
      ]
     },
     "metadata": {
      "needs_background": "light"
     },
     "output_type": "display_data"
    }
   ],
   "source": [
    "Electro = Hdisease.groupby('restecg').target.value_counts(normalize = True)\n",
    "Electro = Electro.unstack()\n",
    "Electro.plot(kind = 'bar') #considering restingecg most severe class had a lot more people not having heart disease. this variable will not be included further."
   ]
  },
  {
   "cell_type": "markdown",
   "metadata": {},
   "source": [
    "## Visualizing exercised induced angina and heart disease"
   ]
  },
  {
   "cell_type": "code",
   "execution_count": 10,
   "metadata": {},
   "outputs": [
    {
     "data": {
      "text/plain": [
       "<matplotlib.axes._subplots.AxesSubplot at 0x265177618b0>"
      ]
     },
     "execution_count": 10,
     "metadata": {},
     "output_type": "execute_result"
    },
    {
     "data": {
      "image/png": "[encoded data removed]",
      "text/plain": [
       "<Figure size 432x288 with 1 Axes>"
      ]
     },
     "metadata": {
      "needs_background": "light"
     },
     "output_type": "display_data"
    }
   ],
   "source": [
    "angina = Hdisease.groupby('exang').target.value_counts(normalize = True)\n",
    "angina = angina.unstack()\n",
    "angina.plot(kind = 'bar')\n"
   ]
  },
  {
   "cell_type": "markdown",
   "metadata": {},
   "source": [
    "## Visualizing slope of peak exercise ST segment and target"
   ]
  },
  {
   "cell_type": "code",
   "execution_count": 11,
   "metadata": {},
   "outputs": [
    {
     "data": {
      "text/plain": [
       "<matplotlib.axes._subplots.AxesSubplot at 0x265177b4640>"
      ]
     },
     "execution_count": 11,
     "metadata": {},
     "output_type": "execute_result"
    },
    {
     "data": {
      "image/png": "[encoded data removed]",
      "text/plain": [
       "<Figure size 432x288 with 1 Axes>"
      ]
     },
     "metadata": {
      "needs_background": "light"
     },
     "output_type": "display_data"
    }
   ],
   "source": [
    "slope = Hdisease.groupby('slope').target.value_counts(normalize = True)\n",
    "slope = slope.unstack()\n",
    "slope.plot(kind = 'bar')  "
   ]
  },
  {
   "cell_type": "markdown",
   "metadata": {},
   "source": [
    "## Visualizing number of major vessels coloured by fluoroscopy and target"
   ]
  },
  {
   "cell_type": "code",
   "execution_count": 12,
   "metadata": {},
   "outputs": [
    {
     "data": {
      "text/plain": [
       "<matplotlib.axes._subplots.AxesSubplot at 0x2651781e370>"
      ]
     },
     "execution_count": 12,
     "metadata": {},
     "output_type": "execute_result"
    },
    {
     "data": {
      "image/png": "[encoded data removed]",
      "text/plain": [
       "<Figure size 432x288 with 1 Axes>"
      ]
     },
     "metadata": {
      "needs_background": "light"
     },
     "output_type": "display_data"
    }
   ],
   "source": [
    "fluoro = Hdisease.groupby('ca').target.value_counts(normalize = True)\n",
    "fluoro = fluoro.unstack()\n",
    "fluoro.plot(kind = 'bar')"
   ]
  },
  {
   "cell_type": "markdown",
   "metadata": {},
   "source": [
    "# Visualizing the continuous variables"
   ]
  },
  {
   "cell_type": "markdown",
   "metadata": {},
   "source": [
    "## Visualizing age and target"
   ]
  },
  {
   "cell_type": "code",
   "execution_count": 13,
   "metadata": {},
   "outputs": [
    {
     "data": {
      "text/plain": [
       "<matplotlib.axes._subplots.AxesSubplot at 0x2651788fc10>"
      ]
     },
     "execution_count": 13,
     "metadata": {},
     "output_type": "execute_result"
    },
    {
     "data": {
      "image/png": "[encoded data removed]",
      "text/plain": [
       "<Figure size 432x288 with 1 Axes>"
      ]
     },
     "metadata": {
      "needs_background": "light"
     },
     "output_type": "display_data"
    }
   ],
   "source": [
    "#creating new column from age called agegroup so we can get bins of 5 different categories for visualization. \n",
    "#this is feature engineering: labels need to be one fewer than bins. Can do this for each continuous variable.\n",
    "#Note: good to check min and max value before doing this to make sure I put the correct ranges in or else if not\n",
    "#could result in na's for some rows\n",
    "\n",
    "Hdisease['agegroup']= pd.cut(Hdisease.age,[25,40,50,60,70,80], labels = ['25-40', '40-50', '50-60', '60-70', '70-80'])\n",
    "\n",
    "Hdisease.head(n=30)\n",
    "\n",
    "age_group = Hdisease.groupby('agegroup').target.value_counts(normalize = True)\n",
    "age_group= age_group.unstack()\n",
    "age_group.plot(kind = 'bar')\n",
    "\n",
    "#Note: people between 25 and 50 tend to have heart disease a lot more than people who don't.\n",
    "#around 50/50 for 50-60 and betwen 60-70 more people don't have heart disease.\n",
    "#Between 70-80 it is the most pronounced with the majority having heart disease.\n",
    "\n",
    "                                                                "
   ]
  },
  {
   "cell_type": "markdown",
   "metadata": {},
   "source": [
    "## Visualizing resting blood pressure and the target"
   ]
  },
  {
   "cell_type": "code",
   "execution_count": 14,
   "metadata": {},
   "outputs": [
    {
     "name": "stdout",
     "output_type": "stream",
     "text": [
      "94\n",
      "200\n"
     ]
    },
    {
     "data": {
      "text/plain": [
       "<matplotlib.axes._subplots.AxesSubplot at 0x265188d0940>"
      ]
     },
     "execution_count": 14,
     "metadata": {},
     "output_type": "execute_result"
    },
    {
     "data": {
      "image/png": "[encoded data removed]",
      "text/plain": [
       "<Figure size 432x288 with 1 Axes>"
      ]
     },
     "metadata": {
      "needs_background": "light"
     },
     "output_type": "display_data"
    }
   ],
   "source": [
    "print(Hdisease['trestbps'].min())\n",
    "print(Hdisease['trestbps'].max())\n",
    "\n",
    "Hdisease['restbpgroup']= pd.cut(Hdisease.trestbps,[94,130,160,200], labels = ['94-130', '130-160', '160-200'])\n",
    "\n",
    "Hdisease.head(n=30)\n",
    "\n",
    "restbp_group = Hdisease.groupby('restbpgroup').target.value_counts(normalize = True)\n",
    "restbp_group= restbp_group.unstack()\n",
    "restbp_group.plot(kind = 'bar')\n",
    "\n",
    "#Will not include in machine learning later on.\n",
    "\n"
   ]
  },
  {
   "cell_type": "markdown",
   "metadata": {},
   "source": [
    "## Visualizing cholestorol and heart disease"
   ]
  },
  {
   "cell_type": "code",
   "execution_count": 17,
   "metadata": {},
   "outputs": [
    {
     "name": "stdout",
     "output_type": "stream",
     "text": [
      "126\n",
      "564\n"
     ]
    },
    {
     "data": {
      "text/plain": [
       "<matplotlib.axes._subplots.AxesSubplot at 0x26518933f70>"
      ]
     },
     "execution_count": 17,
     "metadata": {},
     "output_type": "execute_result"
    },
    {
     "data": {
      "image/png": "[encoded data removed]",
      "text/plain": [
       "<Figure size 432x288 with 1 Axes>"
      ]
     },
     "metadata": {
      "needs_background": "light"
     },
     "output_type": "display_data"
    }
   ],
   "source": [
    "print(Hdisease['chol'].min())\n",
    "print(Hdisease['chol'].max())\n",
    "\n",
    "Hdisease['cholgroup']= pd.cut(Hdisease.chol,[126,200,300,400,500,600], labels = ['126-200', '200-300', '300-400', '400-500', '500-600'])\n",
    "\n",
    "Hdisease.head(n=30)\n",
    "\n",
    "chol_group = Hdisease.groupby('cholgroup').target.value_counts(normalize = True)\n",
    "chol_group= chol_group.unstack()\n",
    "chol_group.plot(kind = 'bar')\n"
   ]
  },
  {
   "cell_type": "markdown",
   "metadata": {},
   "source": [
    "## Visualizing oldpeak and heart disease"
   ]
  },
  {
   "cell_type": "code",
   "execution_count": 24,
   "metadata": {},
   "outputs": [
    {
     "name": "stdout",
     "output_type": "stream",
     "text": [
      "0.0\n",
      "6.2\n"
     ]
    },
    {
     "data": {
      "text/plain": [
       "<matplotlib.axes._subplots.AxesSubplot at 0x26518a74250>"
      ]
     },
     "execution_count": 24,
     "metadata": {},
     "output_type": "execute_result"
    },
    {
     "data": {
      "image/png": "[encoded data removed]",
      "text/plain": [
       "<Figure size 432x288 with 1 Axes>"
      ]
     },
     "metadata": {
      "needs_background": "light"
     },
     "output_type": "display_data"
    }
   ],
   "source": [
    "print(Hdisease['oldpeak'].min())\n",
    "print(Hdisease.oldpeak.max())\n",
    "\n",
    "Hdisease['oldpeakgroup']= pd.cut(Hdisease.oldpeak,[0,1.5,3,4.5,6], labels = ['0-1.5', '1.5-3', '3-4.5', '4.5-6'])\n",
    "\n",
    "Oldpeak_Group = Hdisease.groupby('oldpeakgroup').target.value_counts(normalize = True)\n",
    "Oldpeak_Group = Oldpeak_Group.unstack()\n",
    "Oldpeak_Group.plot(kind = 'bar')\n",
    "                                                                        \n",
    "                                                                        \n"
   ]
  },
  {
   "cell_type": "markdown",
   "metadata": {},
   "source": [
    "## Visualizng maximum heart rate acheived and target"
   ]
  },
  {
   "cell_type": "code",
   "execution_count": 30,
   "metadata": {},
   "outputs": [
    {
     "name": "stdout",
     "output_type": "stream",
     "text": [
      "71\n",
      "202\n"
     ]
    },
    {
     "data": {
      "text/plain": [
       "<matplotlib.axes._subplots.AxesSubplot at 0x26518af9970>"
      ]
     },
     "execution_count": 30,
     "metadata": {},
     "output_type": "execute_result"
    },
    {
     "data": {
      "image/png": "[encoded data removed]",
      "text/plain": [
       "<Figure size 432x288 with 1 Axes>"
      ]
     },
     "metadata": {
      "needs_background": "light"
     },
     "output_type": "display_data"
    }
   ],
   "source": [
    "print(Hdisease['thalach'].min())\n",
    "print(Hdisease.thalach.max())\n",
    "\n",
    "Hdisease['thalachgroup']= pd.cut(Hdisease.thalach,[71,110,150,202], labels = ['71-110', '110-150', '150-202'])\n",
    "\n",
    "Thalach_Group = Hdisease.groupby('thalachgroup').target.value_counts(normalize = True)\n",
    "Thalach_Group = Thalach_Group.unstack()\n",
    "Thalach_Group.plot(kind = 'bar')"
   ]
  },
  {
   "cell_type": "markdown",
   "metadata": {},
   "source": [
    "# Setting up the feature matrix and target array"
   ]
  },
  {
   "cell_type": "code",
   "execution_count": 32,
   "metadata": {},
   "outputs": [],
   "source": [
    "X = Hdisease[['age', 'sex', 'cp', 'chol', 'thalach', 'oldpeak', 'slope','ca']].values\n",
    "y = Hdisease['target'].values"
   ]
  },
  {
   "cell_type": "markdown",
   "metadata": {},
   "source": [
    "# Random forest with Sklearn "
   ]
  },
  {
   "cell_type": "code",
   "execution_count": 85,
   "metadata": {},
   "outputs": [
    {
     "data": {
      "image/png": "[encoded data removed]",
      "text/plain": [
       "<Figure size 432x288 with 1 Axes>"
      ]
     },
     "metadata": {
      "needs_background": "light"
     },
     "output_type": "display_data"
    },
    {
     "data": {
      "text/plain": [
       "RandomForestClassifier(n_estimators=25, random_state=112)"
      ]
     },
     "execution_count": 85,
     "metadata": {},
     "output_type": "execute_result"
    }
   ],
   "source": [
    "from sklearn.ensemble import RandomForestClassifier \n",
    "from sklearn.model_selection import train_test_split\n",
    "import numpy as np\n",
    "from sklearn.model_selection import GridSearchCV\n",
    "import matplotlib.pyplot as plt\n",
    "\n",
    "#Using elbow graph to determine optimal value of trees to build\n",
    "\n",
    "n_est = np.array(range(1,101))\n",
    "\n",
    "\n",
    "paramGrid = { 'n_estimators':n_est,}\n",
    "\n",
    "Rforest = RandomForestClassifier(random_state = 111)\n",
    "Grid = GridSearchCV(Rforest, paramGrid, cv=5)\n",
    "Grid.fit(X,y)\n",
    "\n",
    "scores = Grid.cv_results_['mean_test_score']\n",
    "plt.plot(n_est, scores)\n",
    "plt.xlabel('n_trees')\n",
    "plt.ylabel('accuracy')\n",
    "plt.xlim(0,100)\n",
    "plt.ylim(0.6,0.9)\n",
    "plt.show()\n",
    "\n",
    "#around 25 trees is when it starts to level out. We will choose to build with 25 trees\n",
    "\n",
    "RForest = RandomForestClassifier(n_estimators = 25, random_state =112)\n",
    "RForest.fit(X,y)\n",
    "\n",
    "\n",
    "\n"
   ]
  },
  {
   "cell_type": "markdown",
   "metadata": {},
   "source": [
    "## Feature importances "
   ]
  },
  {
   "cell_type": "code",
   "execution_count": 73,
   "metadata": {},
   "outputs": [
    {
     "name": "stdout",
     "output_type": "stream",
     "text": [
      "0.8026315789473685\n",
      "ca         0.190257\n",
      "thalach    0.166730\n",
      "age        0.143593\n",
      "cp         0.136391\n",
      "chol       0.120724\n",
      "oldpeak    0.107783\n",
      "slope      0.089874\n",
      "sex        0.044648\n",
      "dtype: float64\n"
     ]
    }
   ],
   "source": [
    "X_train, X_test, y_train, y_test = \\\n",
    "train_test_split(X, y, random_state = 113)\n",
    "\n",
    "#Fitting the model\n",
    "\n",
    "Rf = RandomForestClassifier(n_estimators = 25, random_state = 114)\n",
    "Rf.fit(X_train, y_train)\n",
    "print(Rf.score(X_test, y_test)) #80%\n",
    "\n",
    "feature_imp = pd.Series(Rf.feature_importances_, index = \\\n",
    "['age', 'sex', 'cp', 'chol', 'thalach','oldpeak', 'slope', 'ca']).sort_values(ascending = False)\n",
    "\n",
    "print(feature_imp.head(n=10))\n",
    "\n",
    "\n"
   ]
  },
  {
   "cell_type": "markdown",
   "metadata": {},
   "source": [
    "# New model excluding sex and slope "
   ]
  },
  {
   "cell_type": "code",
   "execution_count": 84,
   "metadata": {},
   "outputs": [
    {
     "data": {
      "text/plain": [
       "0.8421052631578947"
      ]
     },
     "execution_count": 84,
     "metadata": {},
     "output_type": "execute_result"
    }
   ],
   "source": [
    "New_mod = Hdisease[['ca', 'thalach', 'age', 'cp', 'chol', 'oldpeak']].values\n",
    "\n",
    "X_train, X_test, y_train, y_test = train_test_split(New_mod, y, random_state =333)\n",
    "\n",
    "Rf.fit(X_train, y_train)\n",
    "Rf.score(X_test, y_test)\n",
    "\n",
    "#the new model had greater accuracy 84% with sex and slope removed. \n"
   ]
  },
  {
   "cell_type": "code",
   "execution_count": null,
   "metadata": {},
   "outputs": [],
   "source": []
  }
 ],
 "metadata": {
  "kernelspec": {
   "display_name": "Python 3",
   "language": "python",
   "name": "python3"
  },
  "language_info": {
   "codemirror_mode": {
    "name": "ipython",
    "version": 3
   },
   "file_extension": ".py",
   "mimetype": "text/x-python",
   "name": "python",
   "nbconvert_exporter": "python",
   "pygments_lexer": "ipython3",
   "version": "3.8.3"
  }
 },
 "nbformat": 4,
 "nbformat_minor": 4
}
